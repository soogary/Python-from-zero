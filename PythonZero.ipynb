{
  "cells": [
    {
      "cell_type": "markdown",
      "metadata": {
        "colab_type": "text",
        "id": "view-in-github"
      },
      "source": [
        "<a href=\"https://colab.research.google.com/github/soogary/Python-from-zero/blob/main/PythonZero.ipynb\" target=\"_parent\"><img src=\"https://colab.research.google.com/assets/colab-badge.svg\" alt=\"Open In Colab\"/></a>"
      ]
    },
    {
      "cell_type": "code",
      "execution_count": null,
      "metadata": {
        "id": "kFMn7WiyrISZ"
      },
      "outputs": [],
      "source": []
    },
    {
      "cell_type": "markdown",
      "metadata": {
        "id": "getOIeIzsebL"
      },
      "source": [
        "## Statements\n"
      ]
    },
    {
      "cell_type": "code",
      "execution_count": 2,
      "metadata": {
        "colab": {
          "base_uri": "https://localhost:8080/"
        },
        "id": "V_-Of79dslcN",
        "outputId": "ec60e1bc-09e4-477a-b30a-b1cfe01ab65d"
      },
      "outputs": [
        {
          "name": "stdout",
          "output_type": "stream",
          "text": [
            "hello world\n"
          ]
        }
      ],
      "source": [
        "print(\"hello world\")"
      ]
    },
    {
      "cell_type": "code",
      "execution_count": null,
      "metadata": {
        "id": "T9RFn4AMspVn"
      },
      "outputs": [],
      "source": [
        "my_list2(\"apple\", \"cherry\", \"lemon\")\n",
        "for item in my_list2:\n",
        "    print (f\"my fave is eating: {item}\")"
      ]
    },
    {
      "cell_type": "markdown",
      "metadata": {
        "id": "sgpeQh4ls2f4"
      },
      "source": [
        "## Variables"
      ]
    },
    {
      "cell_type": "code",
      "execution_count": 4,
      "metadata": {
        "id": "DCB6pFIXs5OB"
      },
      "outputs": [],
      "source": [
        "variable = 1"
      ]
    },
    {
      "cell_type": "code",
      "execution_count": 5,
      "metadata": {
        "colab": {
          "base_uri": "https://localhost:8080/"
        },
        "id": "jYLFXyRGs8wi",
        "outputId": "3ea38a1c-d5e4-4b24-f704-efdd1a912943"
      },
      "outputs": [
        {
          "data": {
            "text/plain": [
              "1"
            ]
          },
          "execution_count": 5,
          "metadata": {},
          "output_type": "execute_result"
        }
      ],
      "source": [
        "variable"
      ]
    },
    {
      "cell_type": "code",
      "execution_count": 6,
      "metadata": {
        "colab": {
          "base_uri": "https://localhost:8080/"
        },
        "id": "SNv54MuMtAG2",
        "outputId": "8112036f-4566-4ab5-beb4-1dcbc255339f"
      },
      "outputs": [
        {
          "data": {
            "text/plain": [
              "3"
            ]
          },
          "execution_count": 6,
          "metadata": {},
          "output_type": "execute_result"
        }
      ],
      "source": [
        "x = 1\n",
        "y = 2\n",
        "x + y"
      ]
    },
    {
      "cell_type": "code",
      "execution_count": null,
      "metadata": {
        "id": "UAVB25Uxtn_E"
      },
      "outputs": [],
      "source": []
    },
    {
      "cell_type": "markdown",
      "metadata": {
        "id": "FjhgLGNIt0Z4"
      },
      "source": [
        "#  Data structures"
      ]
    },
    {
      "cell_type": "markdown",
      "metadata": {
        "id": "e7_icdojuUY6"
      },
      "source": []
    },
    {
      "cell_type": "markdown",
      "metadata": {
        "id": "5h9aIEPWuIm0"
      },
      "source": [
        "Lists"
      ]
    },
    {
      "cell_type": "code",
      "execution_count": 8,
      "metadata": {
        "colab": {
          "base_uri": "https://localhost:8080/"
        },
        "id": "Nu7tlii4t3Ur",
        "outputId": "ad3e1dc5-4243-4d9e-a6af-91c3c5253197"
      },
      "outputs": [
        {
          "data": {
            "text/plain": [
              "3"
            ]
          },
          "execution_count": 8,
          "metadata": {},
          "output_type": "execute_result"
        }
      ],
      "source": [
        "my_list = [1,2,3]\n",
        "my_list[0]\n",
        "my_list[2]\n",
        "my_list[-1]"
      ]
    },
    {
      "cell_type": "code",
      "execution_count": null,
      "metadata": {
        "id": "MfCzkYRht89w"
      },
      "outputs": [],
      "source": []
    },
    {
      "cell_type": "markdown",
      "metadata": {
        "id": "Ox88i_82uVua"
      },
      "source": [
        "dictionary"
      ]
    },
    {
      "cell_type": "code",
      "execution_count": 9,
      "metadata": {
        "colab": {
          "base_uri": "https://localhost:8080/"
        },
        "id": "mL58mf5RuXjQ",
        "outputId": "64fb0416-32b4-4b09-ca52-66b49e6e7243"
      },
      "outputs": [
        {
          "data": {
            "text/plain": [
              "dict"
            ]
          },
          "execution_count": 9,
          "metadata": {},
          "output_type": "execute_result"
        }
      ],
      "source": [
        "my_dictionary = {1:\"one\", 2:\"two\", 3: \"three\"}\n",
        "type(my_dictionary)"
      ]
    },
    {
      "cell_type": "code",
      "execution_count": 11,
      "metadata": {
        "colab": {
          "base_uri": "https://localhost:8080/"
        },
        "id": "DH9DMRM_uj3z",
        "outputId": "d36a18cb-a691-4661-d5ed-6bc75a3c5dc9"
      },
      "outputs": [
        {
          "data": {
            "text/plain": [
              "dict_values(['one', 'two', 'three'])"
            ]
          },
          "execution_count": 11,
          "metadata": {},
          "output_type": "execute_result"
        }
      ],
      "source": [
        "my_dictionary.keys()\n",
        "my_dictionary.values()"
      ]
    },
    {
      "cell_type": "code",
      "execution_count": null,
      "metadata": {
        "id": "itcUm3zOuqBk"
      },
      "outputs": [],
      "source": []
    },
    {
      "cell_type": "markdown",
      "metadata": {
        "id": "V18H96b4uy7-"
      },
      "source": [
        "Loop"
      ]
    },
    {
      "cell_type": "markdown",
      "metadata": {
        "id": "5GIGx2-Tu5Ap"
      },
      "source": [
        "Loops"
      ]
    },
    {
      "cell_type": "code",
      "execution_count": 12,
      "metadata": {
        "colab": {
          "base_uri": "https://localhost:8080/"
        },
        "id": "qR-sHAiEu16g",
        "outputId": "906f1141-decd-431b-d9c0-2dd8b70f0471"
      },
      "outputs": [
        {
          "name": "stdout",
          "output_type": "stream",
          "text": [
            "This is my key: 1\n",
            "This is my key: 2\n",
            "This is my key: 3\n"
          ]
        }
      ],
      "source": [
        "for key,value in my_dictionary.items():\n",
        "    print(f\"This is my key: {key}\")"
      ]
    },
    {
      "cell_type": "code",
      "execution_count": 13,
      "metadata": {
        "colab": {
          "base_uri": "https://localhost:8080/"
        },
        "id": "nniRCuRFvKA-",
        "outputId": "df7ef243-206f-4c90-c9fa-1710dd67f0e7"
      },
      "outputs": [
        {
          "name": "stdout",
          "output_type": "stream",
          "text": [
            "This is my value: one\n",
            "This is my value: two\n",
            "This is my value: three\n"
          ]
        }
      ],
      "source": [
        "for key,value in my_dictionary.items():\n",
        "    print(f\"This is my value: {value}\")"
      ]
    },
    {
      "cell_type": "code",
      "execution_count": 15,
      "metadata": {
        "colab": {
          "base_uri": "https://localhost:8080/"
        },
        "id": "Xh2XnFK2vPgM",
        "outputId": "2aee226f-97fc-4617-e548-1633bbb5ee1f"
      },
      "outputs": [
        {
          "name": "stdout",
          "output_type": "stream",
          "text": [
            "This is the value in the list: 1\n",
            "This is the value in the list: 2\n",
            "This is the value in the list: 3\n"
          ]
        }
      ],
      "source": [
        "for items in my_list:\n",
        "  print(f\"This is the value in the list: {items}\")"
      ]
    },
    {
      "cell_type": "code",
      "execution_count": null,
      "metadata": {
        "id": "8iBPxbzgvWD1"
      },
      "outputs": [],
      "source": []
    }
  ],
  "metadata": {
    "colab": {
      "authorship_tag": "ABX9TyNVF/5zSjBgdbbs9fcxYhSy",
      "include_colab_link": true,
      "provenance": [],
      "toc_visible": true
    },
    "kernelspec": {
      "display_name": "Python 3",
      "name": "python3"
    },
    "language_info": {
      "name": "python"
    }
  },
  "nbformat": 4,
  "nbformat_minor": 0
}
