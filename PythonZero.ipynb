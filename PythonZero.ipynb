{
  "nbformat": 4,
  "nbformat_minor": 0,
  "metadata": {
    "colab": {
      "provenance": [],
      "toc_visible": true,
      "authorship_tag": "ABX9TyNVF/5zSjBgdbbs9fcxYhSy",
      "include_colab_link": true
    },
    "kernelspec": {
      "name": "python3",
      "display_name": "Python 3"
    },
    "language_info": {
      "name": "python"
    }
  },
  "cells": [
    {
      "cell_type": "markdown",
      "metadata": {
        "id": "view-in-github",
        "colab_type": "text"
      },
      "source": [
        "<a href=\"https://colab.research.google.com/github/soogary/Python-from-zero/blob/main/PythonZero.ipynb\" target=\"_parent\"><img src=\"https://colab.research.google.com/assets/colab-badge.svg\" alt=\"Open In Colab\"/></a>"
      ]
    },
    {
      "cell_type": "code",
      "execution_count": null,
      "metadata": {
        "id": "kFMn7WiyrISZ"
      },
      "outputs": [],
      "source": []
    },
    {
      "cell_type": "markdown",
      "source": [
        "## Statements\n"
      ],
      "metadata": {
        "id": "getOIeIzsebL"
      }
    },
    {
      "cell_type": "code",
      "source": [
        "print(\"hello world\")"
      ],
      "metadata": {
        "colab": {
          "base_uri": "https://localhost:8080/"
        },
        "id": "V_-Of79dslcN",
        "outputId": "ec60e1bc-09e4-477a-b30a-b1cfe01ab65d"
      },
      "execution_count": 2,
      "outputs": [
        {
          "output_type": "stream",
          "name": "stdout",
          "text": [
            "hello world\n"
          ]
        }
      ]
    },
    {
      "cell_type": "code",
      "source": [],
      "metadata": {
        "id": "T9RFn4AMspVn"
      },
      "execution_count": null,
      "outputs": []
    },
    {
      "cell_type": "markdown",
      "source": [
        "## Variables"
      ],
      "metadata": {
        "id": "sgpeQh4ls2f4"
      }
    },
    {
      "cell_type": "code",
      "source": [
        "variable = 1"
      ],
      "metadata": {
        "id": "DCB6pFIXs5OB"
      },
      "execution_count": 4,
      "outputs": []
    },
    {
      "cell_type": "code",
      "source": [
        "variable"
      ],
      "metadata": {
        "colab": {
          "base_uri": "https://localhost:8080/"
        },
        "id": "jYLFXyRGs8wi",
        "outputId": "3ea38a1c-d5e4-4b24-f704-efdd1a912943"
      },
      "execution_count": 5,
      "outputs": [
        {
          "output_type": "execute_result",
          "data": {
            "text/plain": [
              "1"
            ]
          },
          "metadata": {},
          "execution_count": 5
        }
      ]
    },
    {
      "cell_type": "code",
      "source": [
        "x = 1\n",
        "y = 2\n",
        "x + y"
      ],
      "metadata": {
        "colab": {
          "base_uri": "https://localhost:8080/"
        },
        "id": "SNv54MuMtAG2",
        "outputId": "8112036f-4566-4ab5-beb4-1dcbc255339f"
      },
      "execution_count": 6,
      "outputs": [
        {
          "output_type": "execute_result",
          "data": {
            "text/plain": [
              "3"
            ]
          },
          "metadata": {},
          "execution_count": 6
        }
      ]
    },
    {
      "cell_type": "code",
      "source": [],
      "metadata": {
        "id": "UAVB25Uxtn_E"
      },
      "execution_count": null,
      "outputs": []
    },
    {
      "cell_type": "markdown",
      "source": [
        "#  Data structures"
      ],
      "metadata": {
        "id": "FjhgLGNIt0Z4"
      }
    },
    {
      "cell_type": "markdown",
      "source": [],
      "metadata": {
        "id": "e7_icdojuUY6"
      }
    },
    {
      "cell_type": "markdown",
      "source": [
        "Lists"
      ],
      "metadata": {
        "id": "5h9aIEPWuIm0"
      }
    },
    {
      "cell_type": "code",
      "source": [
        "my_list = [1,2,3]\n",
        "my_list[0]\n",
        "my_list[2]\n",
        "my_list[-1]"
      ],
      "metadata": {
        "colab": {
          "base_uri": "https://localhost:8080/"
        },
        "id": "Nu7tlii4t3Ur",
        "outputId": "ad3e1dc5-4243-4d9e-a6af-91c3c5253197"
      },
      "execution_count": 8,
      "outputs": [
        {
          "output_type": "execute_result",
          "data": {
            "text/plain": [
              "3"
            ]
          },
          "metadata": {},
          "execution_count": 8
        }
      ]
    },
    {
      "cell_type": "code",
      "source": [],
      "metadata": {
        "id": "MfCzkYRht89w"
      },
      "execution_count": null,
      "outputs": []
    },
    {
      "cell_type": "markdown",
      "source": [
        "dictionary"
      ],
      "metadata": {
        "id": "Ox88i_82uVua"
      }
    },
    {
      "cell_type": "code",
      "source": [
        "my_dictionary = {1:\"one\", 2:\"two\", 3: \"three\"}\n",
        "type(my_dictionary)"
      ],
      "metadata": {
        "colab": {
          "base_uri": "https://localhost:8080/"
        },
        "id": "mL58mf5RuXjQ",
        "outputId": "64fb0416-32b4-4b09-ca52-66b49e6e7243"
      },
      "execution_count": 9,
      "outputs": [
        {
          "output_type": "execute_result",
          "data": {
            "text/plain": [
              "dict"
            ]
          },
          "metadata": {},
          "execution_count": 9
        }
      ]
    },
    {
      "cell_type": "code",
      "source": [
        "my_dictionary.keys()\n",
        "my_dictionary.values()"
      ],
      "metadata": {
        "colab": {
          "base_uri": "https://localhost:8080/"
        },
        "id": "DH9DMRM_uj3z",
        "outputId": "d36a18cb-a691-4661-d5ed-6bc75a3c5dc9"
      },
      "execution_count": 11,
      "outputs": [
        {
          "output_type": "execute_result",
          "data": {
            "text/plain": [
              "dict_values(['one', 'two', 'three'])"
            ]
          },
          "metadata": {},
          "execution_count": 11
        }
      ]
    },
    {
      "cell_type": "code",
      "source": [],
      "metadata": {
        "id": "itcUm3zOuqBk"
      },
      "execution_count": null,
      "outputs": []
    },
    {
      "cell_type": "markdown",
      "source": [
        "Loop"
      ],
      "metadata": {
        "id": "V18H96b4uy7-"
      }
    },
    {
      "cell_type": "markdown",
      "source": [
        "Loops"
      ],
      "metadata": {
        "id": "5GIGx2-Tu5Ap"
      }
    },
    {
      "cell_type": "code",
      "source": [
        "for key,value in my_dictionary.items():\n",
        "    print(f\"This is my key: {key}\")"
      ],
      "metadata": {
        "colab": {
          "base_uri": "https://localhost:8080/"
        },
        "id": "qR-sHAiEu16g",
        "outputId": "906f1141-decd-431b-d9c0-2dd8b70f0471"
      },
      "execution_count": 12,
      "outputs": [
        {
          "output_type": "stream",
          "name": "stdout",
          "text": [
            "This is my key: 1\n",
            "This is my key: 2\n",
            "This is my key: 3\n"
          ]
        }
      ]
    },
    {
      "cell_type": "code",
      "source": [
        "for key,value in my_dictionary.items():\n",
        "    print(f\"This is my value: {value}\")"
      ],
      "metadata": {
        "colab": {
          "base_uri": "https://localhost:8080/"
        },
        "id": "nniRCuRFvKA-",
        "outputId": "df7ef243-206f-4c90-c9fa-1710dd67f0e7"
      },
      "execution_count": 13,
      "outputs": [
        {
          "output_type": "stream",
          "name": "stdout",
          "text": [
            "This is my value: one\n",
            "This is my value: two\n",
            "This is my value: three\n"
          ]
        }
      ]
    },
    {
      "cell_type": "code",
      "source": [
        "for items in my_list:\n",
        "  print(f\"This is the value in the list: {items}\")"
      ],
      "metadata": {
        "colab": {
          "base_uri": "https://localhost:8080/"
        },
        "id": "Xh2XnFK2vPgM",
        "outputId": "2aee226f-97fc-4617-e548-1633bbb5ee1f"
      },
      "execution_count": 15,
      "outputs": [
        {
          "output_type": "stream",
          "name": "stdout",
          "text": [
            "This is the value in the list: 1\n",
            "This is the value in the list: 2\n",
            "This is the value in the list: 3\n"
          ]
        }
      ]
    },
    {
      "cell_type": "code",
      "source": [],
      "metadata": {
        "id": "8iBPxbzgvWD1"
      },
      "execution_count": null,
      "outputs": []
    }
  ]
}